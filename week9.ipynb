{
 "cells": [
  {
   "cell_type": "code",
   "execution_count": 1,
   "metadata": {},
   "outputs": [
    {
     "name": "stdout",
     "output_type": "stream",
     "text": [
      "x를 입력하세요: 1\n",
      "y = 11\n"
     ]
    }
   ],
   "source": [
    "#실습 문제1\n",
    "\n",
    "x = int(input(\"x를 입력하세요: \"))\n",
    "y = 3*x*x + 5*x +3\n",
    "print(\"y =\", y)"
   ]
  },
  {
   "cell_type": "code",
   "execution_count": 2,
   "metadata": {},
   "outputs": [
    {
     "name": "stdout",
     "output_type": "stream",
     "text": [
      "반지름을 입력하세요: 1\n",
      "둘레: 6.28  넓이: 3.14\n"
     ]
    }
   ],
   "source": [
    "#실습 문제2\n",
    "\n",
    "r = int(input(\"반지름을 입력하세요: \"))\n",
    "p = 2*3.14*r\n",
    "a = 3.14*r*r\n",
    "print(\"둘레:\",p,\" 넓이:\",a)"
   ]
  },
  {
   "cell_type": "code",
   "execution_count": null,
   "metadata": {},
   "outputs": [],
   "source": []
  }
 ],
 "metadata": {
  "kernelspec": {
   "display_name": "Python 3",
   "language": "python",
   "name": "python3"
  },
  "language_info": {
   "codemirror_mode": {
    "name": "ipython",
    "version": 3
   },
   "file_extension": ".py",
   "mimetype": "text/x-python",
   "name": "python",
   "nbconvert_exporter": "python",
   "pygments_lexer": "ipython3",
   "version": "3.8.2"
  }
 },
 "nbformat": 4,
 "nbformat_minor": 4
}
