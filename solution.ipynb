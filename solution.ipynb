{
 "cells": [
  {
   "cell_type": "code",
   "execution_count": 40,
   "id": "f460e1d7",
   "metadata": {},
   "outputs": [
    {
     "name": "stdout",
     "output_type": "stream",
     "text": [
      "(1,2)\n",
      "(3,4)\n"
     ]
    }
   ],
   "source": [
    "#문제1\n",
    "\n",
    "class Point:\n",
    "    def __init__(self,x,y):\n",
    "        self.x = x\n",
    "        self.y = y       \n",
    "    def __add__(self,b):\n",
    "        x = x + b.x\n",
    "        y = y + b.y\n",
    "    def show(self):\n",
    "        print(\"(\"+str(self.x)+\",\"+str(self.y)+\")\")\n",
    "        \n",
    "    \n",
    "a = Point(1,2)\n",
    "a.show()\n",
    "\n",
    "b = Point(3,4)\n",
    "b.show()\n",
    "\n",
    "#a = a + b\n",
    "#a.show()\n",
    "#잘 실행되지 않음\n"
   ]
  },
  {
   "cell_type": "code",
   "execution_count": 14,
   "id": "b615d4ef",
   "metadata": {},
   "outputs": [
    {
     "name": "stdout",
     "output_type": "stream",
     "text": [
      "MAX WEEK: 2021-05-08 ~ 2021-05-14\n"
     ]
    }
   ],
   "source": [
    "#문제2\n",
    "\n",
    "import csv\n",
    "import matplotlib.pyplot as plt\n",
    "\n",
    "f = open('seoul.csv')\n",
    "data = csv.reader(f)\n",
    "next(data)\n",
    "\n",
    "count = 0\n",
    "maxdiff = 0\n",
    "diffsum = 0\n",
    "startdate = \"\"\n",
    "enddate = \"\"\n",
    "sd = \"\"\n",
    "ed = \"\"\n",
    "\n",
    "for row in data:\n",
    "    diff = float(row[3]) - float(row[4])\n",
    "    if diff < 0:\n",
    "        diff = -diff\n",
    "    diffsum += diff\n",
    "    count += 1\n",
    "    \n",
    "    if count == 1:\n",
    "        sd = row[0]\n",
    "    if count == 7:\n",
    "        ed = row[0]\n",
    "        if diffsum > maxdiff:\n",
    "            maxdiff = diffsum\n",
    "            startdate = sd\n",
    "            enddate = ed\n",
    "        diffsum=0\n",
    "        count = 0\n",
    "\n",
    "print(\"MAX WEEK : \"+ startdate + \" ~ \" + enddate)\n",
    "            \n"
   ]
  },
  {
   "cell_type": "code",
   "execution_count": 38,
   "id": "d2f78be5",
   "metadata": {},
   "outputs": [
    {
     "data": {
      "image/png": "[encoded data removed]",
      "text/plain": [
       "<Figure size 432x288 with 1 Axes>"
      ]
     },
     "metadata": {
      "needs_background": "light"
     },
     "output_type": "display_data"
    }
   ],
   "source": [
    "#문제3\n",
    "\n",
    "import matplotlib.pyplot as plt\n",
    "import numpy as np\n",
    "Docs = np.array([[1,1,0,1,0,1],\n",
    "               [1,1,1,0,1,0],\n",
    "               [1,1,0,1,0,0]])\n",
    "\n",
    "Query = np.array([1,1,0,0,1,0])\n",
    "Qsize = np.dot(Query.T, Query)**(1/2)\n",
    "\n",
    "c1 = [0,0,0]\n",
    "\n",
    "for i in range (3):\n",
    "    Dsize = np.dot(Docs[i].T,Docs[i])**(1/2)\n",
    "    c1[i] = np.dot(Docs[i],Query)/(Qsize*Dsize)\n",
    "    label[i] = \"docs\"+str(i+1)+\"=\"+str(round(c1[i],2))\n",
    "    \n",
    "    \n",
    "plt.title(\"Cosine similarities\")\n",
    "plt.bar(label, c1)\n",
    "plt.show()"
   ]
  },
  {
   "cell_type": "code",
   "execution_count": null,
   "id": "476c67ab",
   "metadata": {},
   "outputs": [],
   "source": []
  }
 ],
 "metadata": {
  "kernelspec": {
   "display_name": "Python 3",
   "language": "python",
   "name": "python3"
  },
  "language_info": {
   "codemirror_mode": {
    "name": "ipython",
    "version": 3
   },
   "file_extension": ".py",
   "mimetype": "text/x-python",
   "name": "python",
   "nbconvert_exporter": "python",
   "pygments_lexer": "ipython3",
   "version": "3.8.8"
  }
 },
 "nbformat": 4,
 "nbformat_minor": 5
}
