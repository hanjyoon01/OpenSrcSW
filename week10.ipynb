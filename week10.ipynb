{
 "cells": [
  {
   "cell_type": "code",
   "execution_count": 2,
   "metadata": {},
   "outputs": [
    {
     "name": "stdout",
     "output_type": "stream",
     "text": [
      "암호화할 문자열을 입력하세요: ab cd ef\n",
      "fg de bc \n",
      "--------------------------------\n",
      "복호화할 문자열을 입력하세요: fg de bc\n",
      "ab cd ef "
     ]
    }
   ],
   "source": [
    "#실습 문제3\n",
    "\n",
    "def encrypt(str):\n",
    "    s1 = str.split(sep=' ')\n",
    "    s1.reverse()\n",
    "\n",
    "    for i in range (len(s1)):\n",
    "        for ch in s1[i]:\n",
    "            print(chr(ord(ch)+1), end=\"\")\n",
    "        print(\" \",end=\"\")\n",
    "\n",
    "def decrypt(str):\n",
    "    s1 = str.split(sep=' ')\n",
    "    s1.reverse()\n",
    "\n",
    "    for i in range (len(s1)):\n",
    "        for ch in s1[i]:\n",
    "            print(chr(ord(ch)-1), end=\"\")\n",
    "        print(\" \",end=\"\")\n",
    "        \n",
    "str1 = input(\"암호화할 문자열을 입력하세요: \")\n",
    "encrypt(str1)\n",
    "print(\"\\n--------------------------------\")\n",
    "str2 = input(\"복호화할 문자열을 입력하세요: \")\n",
    "decrypt(str2)"
   ]
  },
  {
   "cell_type": "code",
   "execution_count": 3,
   "metadata": {},
   "outputs": [
    {
     "name": "stdout",
     "output_type": "stream",
     "text": [
      "10명의 사람의 이름과 전화번호를 입력하세요: \n",
      " 한재윤 010 1234 5678\n",
      " 김재윤 010 2345 6789\n",
      " 이재윤 010 3456 7890\n",
      " 박재윤 010 4567 8901\n",
      " 최재윤 010 5678 9012\n",
      " 하재윤 010 6789 0123\n",
      " 오재윤 010 7890 1234\n",
      " 장재윤 010 8901 2345\n",
      " 배재윤 010 9012 3456\n",
      " 마재윤 010 0123 4567\n",
      "name: 하재윤\n",
      "telnum: 010 6789 0123\n",
      "---------------\n",
      "telnum: 010 4567 8901\n",
      "name: 박재윤\n"
     ]
    }
   ],
   "source": [
    "#실습 문제4\n",
    "\n",
    "def get_key(val, a):\n",
    "    for key, value in a.items():\n",
    "         if val == value:\n",
    "             return key\n",
    " \n",
    "    return \"There is no such Key\"\n",
    "\n",
    "a = {}\n",
    "print(\"10명의 사람의 이름과 전화번호를 입력하세요: \")\n",
    "for i in range(10):\n",
    "    n = input(\" \")\n",
    "    n_s = n.split(' ',1)\n",
    "    a[n_s[0]] = n_s[1]\n",
    "\n",
    "n = input(\"name: \")\n",
    "print(\"telnum:\", a[n])\n",
    "print(\"---------------\")\n",
    "t = input(\"telnum: \")\n",
    "print(\"name:\", get_key(t,a))"
   ]
  },
  {
   "cell_type": "code",
   "execution_count": null,
   "metadata": {},
   "outputs": [],
   "source": []
  }
 ],
 "metadata": {
  "kernelspec": {
   "display_name": "Python 3",
   "language": "python",
   "name": "python3"
  },
  "language_info": {
   "codemirror_mode": {
    "name": "ipython",
    "version": 3
   },
   "file_extension": ".py",
   "mimetype": "text/x-python",
   "name": "python",
   "nbconvert_exporter": "python",
   "pygments_lexer": "ipython3",
   "version": "3.8.2"
  }
 },
 "nbformat": 4,
 "nbformat_minor": 4
}
